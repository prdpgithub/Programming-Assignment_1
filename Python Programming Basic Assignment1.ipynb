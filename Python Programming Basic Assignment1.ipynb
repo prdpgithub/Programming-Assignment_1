{
 "cells": [
  {
   "cell_type": "code",
   "execution_count": 1,
   "id": "26165933",
   "metadata": {},
   "outputs": [
    {
     "name": "stdout",
     "output_type": "stream",
     "text": [
      "Hello Python\n"
     ]
    }
   ],
   "source": [
    "#1.\tWrite a Python program to print \"Hello Python\"?\n",
    "i = \"Hello Python\"\n",
    "print(i)"
   ]
  },
  {
   "cell_type": "code",
   "execution_count": 5,
   "id": "aa6fdfab",
   "metadata": {},
   "outputs": [
    {
     "name": "stdout",
     "output_type": "stream",
     "text": [
      "hello python\n"
     ]
    }
   ],
   "source": [
    "print('hello python')"
   ]
  },
  {
   "cell_type": "code",
   "execution_count": 7,
   "id": "29536c4e",
   "metadata": {},
   "outputs": [
    {
     "name": "stdout",
     "output_type": "stream",
     "text": [
      " value of a 4\n",
      "value of b 2\n",
      "addtion 6\n",
      "Division 3.0\n"
     ]
    }
   ],
   "source": [
    "#2.\tWrite a Python program to do arithmetical operations addition and division.?\n",
    "a = int(input(\" value of a \"))\n",
    "b = int(input( \"value of b \"))\n",
    "#Addition of two variables\n",
    "a = a+b\n",
    "#Division of two variables\n",
    "b= a/b\n",
    "print(\"addtion\",a)\n",
    "print(\"Division\",b)"
   ]
  },
  {
   "cell_type": "code",
   "execution_count": 15,
   "id": "fdac61e4",
   "metadata": {},
   "outputs": [
    {
     "name": "stdout",
     "output_type": "stream",
     "text": [
      " height of triangle 6\n",
      " base of triangle 4\n",
      "area of triangle 12.0\n"
     ]
    }
   ],
   "source": [
    "#3.\tWrite a Python program to find the area of a triangle?\n",
    "h = int(input(\" height of triangle \"))\n",
    "b = int(input(\" base of triangle \"))\n",
    "print(\"area of triangle\", 1/2*b*h)"
   ]
  },
  {
   "cell_type": "code",
   "execution_count": 3,
   "id": "6c095dc3",
   "metadata": {},
   "outputs": [
    {
     "name": "stdout",
     "output_type": "stream",
     "text": [
      " value of c sudh\n",
      " value of d prdp\n",
      "value of c after swapping prdp\n",
      "value of d after swapping sudh\n"
     ]
    }
   ],
   "source": [
    "#4.\tWrite a Python program to swap two variables?\n",
    "c= input(\" value of c \")\n",
    "d= input(\" value of d \")\n",
    "# To Swap the values of two variables\n",
    "c,d = d,c\n",
    "print(\"value of c after swapping\",c)\n",
    "print(\"value of d after swapping\",d)"
   ]
  },
  {
   "cell_type": "code",
   "execution_count": 8,
   "id": "b408bdca",
   "metadata": {},
   "outputs": [
    {
     "name": "stdout",
     "output_type": "stream",
     "text": [
      "4\n"
     ]
    }
   ],
   "source": [
    "#5.\tWrite a Python program to generate a random number?\n",
    "# importing the random module\n",
    "import random\n",
    "print(random.randint(0,9))"
   ]
  },
  {
   "cell_type": "code",
   "execution_count": null,
   "id": "f6a5cb5d",
   "metadata": {},
   "outputs": [],
   "source": []
  }
 ],
 "metadata": {
  "kernelspec": {
   "display_name": "Python 3 (ipykernel)",
   "language": "python",
   "name": "python3"
  },
  "language_info": {
   "codemirror_mode": {
    "name": "ipython",
    "version": 3
   },
   "file_extension": ".py",
   "mimetype": "text/x-python",
   "name": "python",
   "nbconvert_exporter": "python",
   "pygments_lexer": "ipython3",
   "version": "3.9.7"
  }
 },
 "nbformat": 4,
 "nbformat_minor": 5
}
